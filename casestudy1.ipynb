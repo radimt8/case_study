{
 "cells": [
  {
   "cell_type": "code",
   "execution_count": 2,
   "id": "c73ed866-2d23-4bb7-924e-4f17a60222bf",
   "metadata": {},
   "outputs": [
    {
     "name": "stdout",
     "output_type": "stream",
     "text": [
      "Collecting psycopg2-binary\n",
      "  Downloading psycopg2_binary-2.9.9-cp311-cp311-manylinux_2_17_x86_64.manylinux2014_x86_64.whl.metadata (4.4 kB)\n",
      "Downloading psycopg2_binary-2.9.9-cp311-cp311-manylinux_2_17_x86_64.manylinux2014_x86_64.whl (3.0 MB)\n",
      "\u001b[2K   \u001b[90m━━━━━━━━━━━━━━━━━━━━━━━━━━━━━━━━━━━━━━━━\u001b[0m \u001b[32m3.0/3.0 MB\u001b[0m \u001b[31m15.7 MB/s\u001b[0m eta \u001b[36m0:00:00\u001b[0ma \u001b[36m0:00:01\u001b[0m\n",
      "\u001b[?25hInstalling collected packages: psycopg2-binary\n",
      "Successfully installed psycopg2-binary-2.9.9\n"
     ]
    }
   ],
   "source": [
    "!pip install psycopg2-binary"
   ]
  },
  {
   "cell_type": "code",
   "execution_count": null,
   "id": "a258672a-1f33-4ce8-95f5-3248c368a4af",
   "metadata": {},
   "outputs": [],
   "source": []
  },
  {
   "cell_type": "code",
   "execution_count": 67,
   "id": "c96b7922-1521-4dec-9dea-9ec2fb9cac3f",
   "metadata": {},
   "outputs": [],
   "source": [
    "import csv\n",
    "import requests\n",
    "import psycopg2\n",
    "import base64\n",
    "import json\n",
    "\n",
    "# Fakturoid API credentials and parameters\n",
    "FAKTUROID_API_BASE_URL = 'https://app.fakturoid.cz/api/v2/accounts'\n",
    "FAKTUROID_SLUG = 'datadrivenmarketingdev'\n",
    "FAKTUROID_USERNAME = 'jan.kadlecek+dev@marketing.bi'\n",
    "FAKTUROID_API_KEY = '31f47e8632bd4b8e77f3dc7b19c7e2c945c3108b'\n",
    "\n",
    "# Form the complete URL with the slug\n",
    "FAKTUROID_API_URL = f'{FAKTUROID_API_BASE_URL}/{FAKTUROID_SLUG}/invoices.json'\n",
    "\n",
    "# PostgreSQL connection parameters\n",
    "PG_PARAMS = {\n",
    "    \"dbname\": \"mydatabase\",\n",
    "    \"user\": \"myuser\",\n",
    "    \"password\": \"mypassword\",\n",
    "    \"host\": \"postgres\",\n",
    "    \"port\": \"5432\"\n",
    "}\n",
    "\n",
    "credentials = f\"{FAKTUROID_USERNAME}:{FAKTUROID_API_KEY}\"\n",
    "credentials_encoded = base64.b64encode(credentials.encode()).decode('utf-8')\n",
    "headers = {\n",
    "    'Content-Type': 'application/json',\n",
    "    'Authorization': f'Basic {credentials_encoded}'\n",
    "}\n",
    "\n",
    "# Fetch invoices from Fakturoid API with slug parameter\n",
    "response = requests.get(FAKTUROID_API_URL, headers=headers)\n",
    "response.raise_for_status()\n",
    "invoices = response.json()"
   ]
  },
  {
   "cell_type": "code",
   "execution_count": 68,
   "id": "352533ca-ecc2-41ca-b589-6d85df458800",
   "metadata": {},
   "outputs": [
    {
     "name": "stdout",
     "output_type": "stream",
     "text": [
      "{'id': 23125376, 'custom_id': None, 'proforma': False, 'partial_proforma': False, 'number': '0021', 'number_format_id': 397206, 'variable_symbol': '21', 'your_name': 'Testovací účet', 'your_street': 'Testovací ', 'your_street2': None, 'your_city': 'Test', 'your_zip': '10000', 'your_country': 'CZ', 'your_registration_no': '', 'your_vat_no': '', 'your_local_vat_no': None, 'client_name': 'JVJ agency s.r.o.', 'client_street': 'Přibice 393', 'client_street2': None, 'client_city': 'Přibice', 'client_zip': '69124', 'client_country': 'CZ', 'client_registration_no': '28988566', 'client_vat_no': 'CZ28988566', 'client_local_vat_no': None, 'subject_id': 14300339, 'subject_custom_id': None, 'generator_id': None, 'related_id': None, 'correction': False, 'correction_id': None, 'paypal': False, 'gopay': False, 'token': 'IZDVlpInhw', 'status': 'overdue', 'order_number': '', 'issued_on': '2022-01-03', 'taxable_fulfillment_due': '2022-01-03', 'due': 14, 'due_on': '2022-01-17', 'sent_at': None, 'paid_at': None, 'reminder_sent_at': None, 'accepted_at': None, 'cancelled_at': None, 'webinvoice_seen_at': '2023-02-13T00:00:00.000+01:00', 'note': '', 'footer_note': '', 'private_note': None, 'tags': [], 'bank_account': '2010/2010', 'iban': '', 'swift_bic': '', 'show_already_paid_note_in_pdf': False, 'payment_method': 'bank', 'hide_bank_account': False, 'currency': 'CZK', 'exchange_rate': '1.0', 'language': 'cz', 'transferred_tax_liability': False, 'eu_electronic_service': False, 'oss': 'disabled', 'vat_price_mode': 'without_vat', 'supply_code': None, 'subtotal': '20000.0', 'total': '24200.0', 'native_subtotal': '20000.0', 'native_total': '24200.0', 'remaining_amount': '24200.0', 'remaining_native_amount': '24200.0', 'paid_amount': '0.0', 'eet': False, 'eet_cash_register': None, 'eet_store': None, 'eet_records': [], 'lines': [{'id': 52069862, 'name': 'Hard work', 'quantity': '0.5', 'unit_name': 'h', 'unit_price': '40000.0', 'vat_rate': 21, 'unit_price_without_vat': '40000.0', 'unit_price_with_vat': '48400.0', 'price': '20000.0', 'vat': '4200.0', 'native_price': '20000.0', 'native_vat': '4200.0'}], 'attachment': None, 'html_url': 'https://app.fakturoid.cz/datadrivenmarketingdev/invoices/23125376', 'public_html_url': 'https://app.fakturoid.cz/datadrivenmarketingdev/p/IZDVlpInhw/0021', 'url': 'https://app.fakturoid.cz/api/v2/accounts/datadrivenmarketingdev/invoices/23125376.json', 'pdf_url': 'https://app.fakturoid.cz/api/v2/accounts/datadrivenmarketingdev/invoices/23125376/download.pdf', 'subject_url': 'https://app.fakturoid.cz/api/v2/accounts/datadrivenmarketingdev/subjects/14300339.json', 'created_at': '2022-04-25T13:58:18.870+02:00', 'updated_at': '2023-02-13T00:30:41.789+01:00'}\n"
     ]
    }
   ],
   "source": [
    "print(invoices[0])"
   ]
  },
  {
   "cell_type": "code",
   "execution_count": 69,
   "id": "f1abcb0e-9d8c-484c-a492-0aa750ef71c2",
   "metadata": {},
   "outputs": [
    {
     "name": "stdout",
     "output_type": "stream",
     "text": [
      "{'access-control-allow-origin': '*', 'cache-control': 'max-age=0, private, must-revalidate', 'content-encoding': 'gzip', 'content-type': 'application/json; charset=utf-8', 'etag': 'W/\"97b81c46ef729b8d2de2647a1874fa31\"', 'last-modified': 'Sun, 12 Feb 2023 23:38:43 GMT', 'referrer-policy': 'strict-origin-when-cross-origin', 'set-cookie': 'application_theme=eyJfcmFpbHMiOnsibWVzc2FnZSI6IklteHBaMmgwSWc9PSIsImV4cCI6IjIwMjQtMTItMDZUMTc6MTM6NTkuODYxWiIsInB1ciI6ImNvb2tpZS5hcHBsaWNhdGlvbl90aGVtZSJ9fQ%3D%3D--cfd36110ce7d603ba29d38f7414a85ad98a2558a; path=/; expires=Fri, 06 Dec 2024 17:13:59 GMT; HttpOnly; SameSite=Lax; secure', 'strict-transport-security': 'max-age=63072000; includeSubDomains; preload', 'vary': 'Accept-Encoding', 'x-content-type-options': 'nosniff', 'x-download-options': 'noopen', 'x-frame-options': 'SAMEORIGIN', 'x-permitted-cross-domain-policies': 'none', 'x-request-id': '913246b6-70f1-4819-b718-5983572fe203', 'x-runtime': '0.040115', 'x-xss-protection': '0', 'date': 'Wed, 06 Dec 2023 17:13:59 GMT', 'alt-svc': 'h3=\":443\"; ma=86400, h3-29=\":443\"; ma=86400', 'transfer-encoding': 'chunked'}\n"
     ]
    }
   ],
   "source": [
    "print(response.headers)"
   ]
  },
  {
   "cell_type": "code",
   "execution_count": 70,
   "id": "27dbc75f-91ae-4278-803e-32fa47c21d64",
   "metadata": {},
   "outputs": [],
   "source": [
    "csv_file = 'invoices.csv'\n",
    "\n",
    "# Write data to CSV file\n",
    "with open(csv_file, mode='w', newline='', encoding='utf-8') as file:\n",
    "    csv_writer = csv.writer(file)\n",
    "    headers = list(invoices[0].keys())  # Update headers\n",
    "    csv_writer.writerow(headers)  # Write headers to the CSV file\n",
    "    for invoice in invoices:\n",
    "        # Extract values from the invoice dictionary based on the headers order\n",
    "        data_row = [invoice[header] for header in headers]\n",
    "        csv_writer.writerow(data_row)  # Write values to the CSV file"
   ]
  },
  {
   "cell_type": "code",
   "execution_count": 78,
   "id": "0d1a50ca-39eb-4bda-aed6-26c3d8280f9d",
   "metadata": {},
   "outputs": [
    {
     "name": "stdout",
     "output_type": "stream",
     "text": [
      "['id', 'custom_id', 'proforma', 'partial_proforma', 'number', 'number_format_id', 'variable_symbol', 'your_name', 'your_street', 'your_street2', 'your_city', 'your_zip', 'your_country', 'your_registration_no', 'your_vat_no', 'your_local_vat_no', 'client_name', 'client_street', 'client_street2', 'client_city', 'client_zip', 'client_country', 'client_registration_no', 'client_vat_no', 'client_local_vat_no', 'subject_id', 'subject_custom_id', 'generator_id', 'related_id', 'correction', 'correction_id', 'paypal', 'gopay', 'token', 'status', 'order_number', 'issued_on', 'taxable_fulfillment_due', 'due', 'due_on', 'sent_at', 'paid_at', 'reminder_sent_at', 'accepted_at', 'cancelled_at', 'webinvoice_seen_at', 'note', 'footer_note', 'private_note', 'tags', 'bank_account', 'iban', 'swift_bic', 'show_already_paid_note_in_pdf', 'payment_method', 'hide_bank_account', 'currency', 'exchange_rate', 'language', 'transferred_tax_liability', 'eu_electronic_service', 'oss', 'vat_price_mode', 'supply_code', 'subtotal', 'total', 'native_subtotal', 'native_total', 'remaining_amount', 'remaining_native_amount', 'paid_amount', 'eet', 'eet_cash_register', 'eet_store', 'eet_records', 'lines', 'attachment', 'html_url', 'public_html_url', 'url', 'pdf_url', 'subject_url', 'created_at', 'updated_at']\n"
     ]
    }
   ],
   "source": [
    "print(headers)"
   ]
  },
  {
   "cell_type": "code",
   "execution_count": 80,
   "id": "905cb9b3-3ff3-408e-8465-86eb0a6d5a4f",
   "metadata": {},
   "outputs": [
    {
     "name": "stdout",
     "output_type": "stream",
     "text": [
      "Table Structure:\n",
      "('paypal',)\n",
      "('gopay',)\n",
      "('partial_proforma',)\n",
      "('client_registration_no',)\n",
      "('number',)\n",
      "('tags',)\n",
      "('number_format_id',)\n",
      "('subject_id',)\n",
      "('due',)\n",
      "('eet',)\n",
      "('show_already_paid_note_in_pdf',)\n",
      "('your_zip',)\n",
      "('eet_records',)\n",
      "('lines',)\n",
      "('hide_bank_account',)\n",
      "('variable_symbol',)\n",
      "('proforma',)\n",
      "('correction',)\n",
      "('transferred_tax_liability',)\n",
      "('eu_electronic_service',)\n",
      "('client_zip',)\n",
      "('id',)\n",
      "('status',)\n",
      "('order_number',)\n",
      "('issued_on',)\n",
      "('taxable_fulfillment_due',)\n",
      "('due_on',)\n",
      "('sent_at',)\n",
      "('paid_at',)\n",
      "('reminder_sent_at',)\n",
      "('accepted_at',)\n",
      "('cancelled_at',)\n",
      "('webinvoice_seen_at',)\n",
      "('note',)\n",
      "('footer_note',)\n",
      "('private_note',)\n",
      "('bank_account',)\n",
      "('iban',)\n",
      "('swift_bic',)\n",
      "('payment_method',)\n",
      "('currency',)\n",
      "('exchange_rate',)\n",
      "('language',)\n",
      "('oss',)\n",
      "('vat_price_mode',)\n",
      "('supply_code',)\n",
      "('subtotal',)\n",
      "('total',)\n",
      "('native_subtotal',)\n",
      "('native_total',)\n",
      "('remaining_amount',)\n",
      "('remaining_native_amount',)\n",
      "('paid_amount',)\n",
      "('eet_cash_register',)\n",
      "('eet_store',)\n",
      "('attachment',)\n",
      "('html_url',)\n",
      "('public_html_url',)\n",
      "('url',)\n",
      "('pdf_url',)\n",
      "('subject_url',)\n",
      "('created_at',)\n",
      "('updated_at',)\n",
      "('custom_id',)\n",
      "('your_name',)\n",
      "('your_street',)\n",
      "('your_street2',)\n",
      "('your_city',)\n",
      "('your_country',)\n",
      "('your_registration_no',)\n",
      "('your_vat_no',)\n",
      "('your_local_vat_no',)\n",
      "('client_name',)\n",
      "('client_street',)\n",
      "('client_street2',)\n",
      "('client_city',)\n",
      "('client_country',)\n",
      "('client_vat_no',)\n",
      "('client_local_vat_no',)\n",
      "('subject_custom_id',)\n",
      "('generator_id',)\n",
      "('related_id',)\n",
      "('correction_id',)\n",
      "('token',)\n"
     ]
    }
   ],
   "source": [
    "query = \"\"\"\n",
    "    SELECT column_name, data_type\n",
    "    FROM information_schema.columns\n",
    "    WHERE table_name = 'invoices';\"\"\"\n",
    "\n",
    "# Connect to PostgreSQL\n",
    "with psycopg2.connect(**PG_PARAMS) as conn:\n",
    "    with conn.cursor() as cur:\n",
    "        # Create table dynamically based on JSON keys\n",
    "        table_creation_query = f\"CREATE TABLE IF NOT EXISTS invoices (\"\n",
    "        for idx, header in enumerate(headers):\n",
    "            # Define column names and types based on JSON keys\n",
    "            value = invoices[0][header]\n",
    "            if isinstance(value, (dict, list)): #TO DO: \n",
    "                column_type = \"JSONB\"  # Using JSONB for JSON-like structures\n",
    "            elif \"id\" in header and isinstance(value, int):\n",
    "                column_type = \"INTEGER\"\n",
    "            elif isinstance(value, int) or str(value).isdigit():\n",
    "                column_type = \"REAL\"  # Assuming other columns as VARCHAR for simplicity\n",
    "            else:\n",
    "                column_type = \"VARCHAR(255)\"  # Assuming other columns as VARCHAR for simplicity\n",
    "            if idx != 0:\n",
    "                table_creation_query += \", \"\n",
    "            table_creation_query += f\"{header} {column_type}\"\n",
    "        table_creation_query += \");\"\n",
    "\n",
    "        cur.execute(table_creation_query)\n",
    "        cur.execute(query)\n",
    "        table_structure = cur.fetchall()\n",
    "\n",
    "        print(\"Table Structure:\")\n",
    "        for column in table_structure:\n",
    "            print(column)"
   ]
  },
  {
   "cell_type": "code",
   "execution_count": 81,
   "id": "0748afe0-93d3-48bb-8ec7-c06852a74541",
   "metadata": {},
   "outputs": [
    {
     "ename": "BadCopyFileFormat",
     "evalue": "extra data after last expected column\nCONTEXT:  COPY invoices, line 1: \"23125376,,False,False,0021,397206,21,Testovací účet,Testovací ,,Test,10000,CZ,,,,JVJ agency s.r....\"\n",
     "output_type": "error",
     "traceback": [
      "\u001b[0;31m---------------------------------------------------------------------------\u001b[0m",
      "\u001b[0;31mBadCopyFileFormat\u001b[0m                         Traceback (most recent call last)",
      "Cell \u001b[0;32mIn[81], line 8\u001b[0m\n\u001b[1;32m      5\u001b[0m     \u001b[38;5;28;01mwith\u001b[39;00m \u001b[38;5;28mopen\u001b[39m(csv_file, \u001b[38;5;124m'\u001b[39m\u001b[38;5;124mr\u001b[39m\u001b[38;5;124m'\u001b[39m, encoding\u001b[38;5;241m=\u001b[39m\u001b[38;5;124m'\u001b[39m\u001b[38;5;124mutf-8\u001b[39m\u001b[38;5;124m'\u001b[39m) \u001b[38;5;28;01mas\u001b[39;00m f:\n\u001b[1;32m      6\u001b[0m \u001b[38;5;66;03m# Skip the header row in the CSV file\u001b[39;00m\n\u001b[1;32m      7\u001b[0m         \u001b[38;5;28mnext\u001b[39m(f)\n\u001b[0;32m----> 8\u001b[0m         \u001b[43mcur\u001b[49m\u001b[38;5;241;43m.\u001b[39;49m\u001b[43mcopy_from\u001b[49m\u001b[43m(\u001b[49m\u001b[43mf\u001b[49m\u001b[43m,\u001b[49m\u001b[43m \u001b[49m\u001b[38;5;124;43m'\u001b[39;49m\u001b[38;5;124;43minvoices\u001b[39;49m\u001b[38;5;124;43m'\u001b[39;49m\u001b[43m,\u001b[49m\u001b[43m \u001b[49m\u001b[43msep\u001b[49m\u001b[38;5;241;43m=\u001b[39;49m\u001b[38;5;124;43m'\u001b[39;49m\u001b[38;5;124;43m,\u001b[39;49m\u001b[38;5;124;43m'\u001b[39;49m\u001b[43m,\u001b[49m\u001b[43m \u001b[49m\u001b[43mcolumns\u001b[49m\u001b[38;5;241;43m=\u001b[39;49m\u001b[43mheaders\u001b[49m\u001b[43m)\u001b[49m\n\u001b[1;32m      9\u001b[0m         conn\u001b[38;5;241m.\u001b[39mcommit()\n",
      "\u001b[0;31mBadCopyFileFormat\u001b[0m: extra data after last expected column\nCONTEXT:  COPY invoices, line 1: \"23125376,,False,False,0021,397206,21,Testovací účet,Testovací ,,Test,10000,CZ,,,,JVJ agency s.r....\"\n"
     ]
    }
   ],
   "source": [
    "# Connect to PostgreSQL\n",
    "with psycopg2.connect(**PG_PARAMS) as conn:\n",
    "    with conn.cursor() as cur:\n",
    "        # Load data into PostgreSQL from CSV\n",
    "        with open(csv_file, 'r', encoding='utf-8') as f:\n",
    "    # Skip the header row in the CSV file\n",
    "            next(f)\n",
    "            cur.copy_from(f, 'invoices', sep=',', columns=headers)\n",
    "            conn.commit()\n",
    "\n",
    "\n"
   ]
  }
 ],
 "metadata": {
  "kernelspec": {
   "display_name": "Python 3 (ipykernel)",
   "language": "python",
   "name": "python3"
  },
  "language_info": {
   "codemirror_mode": {
    "name": "ipython",
    "version": 3
   },
   "file_extension": ".py",
   "mimetype": "text/x-python",
   "name": "python",
   "nbconvert_exporter": "python",
   "pygments_lexer": "ipython3",
   "version": "3.11.6"
  }
 },
 "nbformat": 4,
 "nbformat_minor": 5
}
