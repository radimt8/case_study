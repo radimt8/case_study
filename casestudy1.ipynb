{
 "cells": [
  {
   "cell_type": "code",
   "execution_count": 25,
   "id": "c96b7922-1521-4dec-9dea-9ec2fb9cac3f",
   "metadata": {},
   "outputs": [],
   "source": [
    "import requests\n",
    "import base64\n",
    "import json\n",
    "import pandas as pd\n",
    "import sqlalchemy as db\n",
    "\n",
    "# Fakturoid API credentials and parameters\n",
    "FAKTUROID_API_BASE_URL = 'https://app.fakturoid.cz/api/v2/accounts'\n",
    "FAKTUROID_SLUG = 'datadrivenmarketingdev'\n",
    "FAKTUROID_USERNAME = 'jan.kadlecek+dev@marketing.bi'\n",
    "FAKTUROID_API_KEY = '31f47e8632bd4b8e77f3dc7b19c7e2c945c3108b'\n",
    "\n",
    "file_name = 'expenses'\n",
    "\n",
    "# Form the complete URL with the slug\n",
    "FAKTUROID_API_URL = f'{FAKTUROID_API_BASE_URL}/{FAKTUROID_SLUG}/{file_name}.json'\n",
    "\n",
    "credentials = f\"{FAKTUROID_USERNAME}:{FAKTUROID_API_KEY}\"\n",
    "credentials_encoded = base64.b64encode(credentials.encode()).decode('utf-8')\n",
    "headers = {\n",
    "    'Content-Type': 'application/json',\n",
    "    'Authorization': f'Basic {credentials_encoded}'\n",
    "}\n",
    "\n",
    "# Fetch invoices from Fakturoid API with slug parameter\n",
    "\n",
    "# Define a function, that will accept the URL as an argument, performs the API requests, checks for presence of 'Link' in the response.headers and gets and appends all the data.\n",
    "def fetch_data(url):\n",
    "    all_data = []\n",
    "\n",
    "    while True:\n",
    "        response = requests.get(url, headers=headers)\n",
    "        response.raise_for_status()\n",
    "        data = response.json()\n",
    "        all_data.extend(data)\n",
    "\n",
    "        # Check for pagination\n",
    "        if 'Link' in response.headers:\n",
    "            links = requests.utils.parse_header_links(response.headers['Link'])\n",
    "            next_url = None\n",
    "            for link in links:\n",
    "                if link['rel'] == 'next':\n",
    "                    next_url = link['url']\n",
    "                    break\n",
    "\n",
    "            if next_url:\n",
    "                url = next_url\n",
    "            else:\n",
    "                break\n",
    "        else:\n",
    "            break\n",
    "\n",
    "    return all_data\n",
    "\n",
    "# Now just run that function:\n",
    "result = fetch_data(FAKTUROID_API_URL)\n",
    "\n",
    "# Here we can test print the data, but I rather do it after I convert them to a Pandas DF.\n",
    "# print(result)"
   ]
  },
  {
   "cell_type": "code",
   "execution_count": 9,
   "id": "cabee679-c023-46f7-a7a0-15474be8f80e",
   "metadata": {},
   "outputs": [],
   "source": [
    "#print(response.headers) #uncomment to take a look on the API response headers"
   ]
  },
  {
   "cell_type": "code",
   "execution_count": 28,
   "id": "54bee187-191f-4be7-9f8e-e4c0f4f6f441",
   "metadata": {},
   "outputs": [],
   "source": [
    "#print(result[0].keys()) #uncomment to take a look at the API body structure"
   ]
  },
  {
   "cell_type": "code",
   "execution_count": 26,
   "id": "55014b53-e6d4-4adf-bc30-4f49a8ebec14",
   "metadata": {},
   "outputs": [],
   "source": [
    "# PostgreSQL connection parameters\n",
    "PG_PARAMS = {\n",
    "    \"dbname\": \"mydatabase\",\n",
    "    \"user\": \"myuser\",\n",
    "    \"password\": \"mypassword\",\n",
    "    \"host\": \"postgres\",\n",
    "    \"port\": \"5432\"\n",
    "}\n",
    "\n",
    "connection_string = f\"postgresql://{PG_PARAMS['user']}:{PG_PARAMS['password']}@{PG_PARAMS['host']}:{PG_PARAMS['port']}/{PG_PARAMS['dbname']}\"\n",
    "\n",
    "df = pd.DataFrame(result)\n",
    "\n",
    "#df.to_csv(f'{file_name}.csv', index=False) #uncomment to be able to check the table structure in this env"
   ]
  },
  {
   "cell_type": "code",
   "execution_count": null,
   "id": "3f5ddb57-5147-42e0-b82b-b3d2cbf60059",
   "metadata": {},
   "outputs": [],
   "source": [
    "# This outputs the dataframe to an SQL table in our PG db running in the docker.\n",
    "\n",
    "df.to_sql(file_name + '_raw', connection_string, dtype={'lines': db.types.JSON}, if_exists='replace', index=False)"
   ]
  }
 ],
 "metadata": {
  "kernelspec": {
   "display_name": "Python 3 (ipykernel)",
   "language": "python",
   "name": "python3"
  },
  "language_info": {
   "codemirror_mode": {
    "name": "ipython",
    "version": 3
   },
   "file_extension": ".py",
   "mimetype": "text/x-python",
   "name": "python",
   "nbconvert_exporter": "python",
   "pygments_lexer": "ipython3",
   "version": "3.11.6"
  }
 },
 "nbformat": 4,
 "nbformat_minor": 5
}
