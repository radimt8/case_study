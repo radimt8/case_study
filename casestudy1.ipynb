{
 "cells": [
  {
   "cell_type": "code",
   "execution_count": 1,
   "id": "c73ed866-2d23-4bb7-924e-4f17a60222bf",
   "metadata": {},
   "outputs": [
    {
     "name": "stdout",
     "output_type": "stream",
     "text": [
      "Collecting psycopg2-binary\n",
      "  Downloading psycopg2_binary-2.9.9-cp311-cp311-manylinux_2_17_x86_64.manylinux2014_x86_64.whl.metadata (4.4 kB)\n",
      "Downloading psycopg2_binary-2.9.9-cp311-cp311-manylinux_2_17_x86_64.manylinux2014_x86_64.whl (3.0 MB)\n",
      "\u001b[2K   \u001b[90m━━━━━━━━━━━━━━━━━━━━━━━━━━━━━━━━━━━━━━━━\u001b[0m \u001b[32m3.0/3.0 MB\u001b[0m \u001b[31m11.8 MB/s\u001b[0m eta \u001b[36m0:00:00\u001b[0m00:01\u001b[0m00:01\u001b[0m\n",
      "\u001b[?25hInstalling collected packages: psycopg2-binary\n",
      "Successfully installed psycopg2-binary-2.9.9\n"
     ]
    }
   ],
   "source": [
    "!pip install psycopg2-binary"
   ]
  },
  {
   "cell_type": "code",
   "execution_count": null,
   "id": "a258672a-1f33-4ce8-95f5-3248c368a4af",
   "metadata": {},
   "outputs": [],
   "source": []
  },
  {
   "cell_type": "code",
   "execution_count": 9,
   "id": "c96b7922-1521-4dec-9dea-9ec2fb9cac3f",
   "metadata": {},
   "outputs": [
    {
     "data": {
      "text/plain": [
       "11"
      ]
     },
     "execution_count": 9,
     "metadata": {},
     "output_type": "execute_result"
    }
   ],
   "source": [
    "import csv\n",
    "import requests\n",
    "import psycopg2\n",
    "import base64\n",
    "import json\n",
    "import pandas as pd\n",
    "import sqlalchemy as db\n",
    "\n",
    "# Fakturoid API credentials and parameters\n",
    "FAKTUROID_API_BASE_URL = 'https://app.fakturoid.cz/api/v2/accounts'\n",
    "FAKTUROID_SLUG = 'datadrivenmarketingdev'\n",
    "FAKTUROID_USERNAME = 'jan.kadlecek+dev@marketing.bi'\n",
    "FAKTUROID_API_KEY = '31f47e8632bd4b8e77f3dc7b19c7e2c945c3108b'\n",
    "\n",
    "file_name = 'expenses'\n",
    "\n",
    "# Form the complete URL with the slug\n",
    "FAKTUROID_API_URL = f'{FAKTUROID_API_BASE_URL}/{FAKTUROID_SLUG}/{file_name}.json'\n",
    "\n",
    "credentials = f\"{FAKTUROID_USERNAME}:{FAKTUROID_API_KEY}\"\n",
    "credentials_encoded = base64.b64encode(credentials.encode()).decode('utf-8')\n",
    "headers = {\n",
    "    'Content-Type': 'application/json',\n",
    "    'Authorization': f'Basic {credentials_encoded}'\n",
    "}\n",
    "\n",
    "# Fetch invoices from Fakturoid API with slug parameter\n",
    "response = requests.get(FAKTUROID_API_URL, headers=headers)\n",
    "response.raise_for_status()\n",
    "\n",
    "# TO DO - check for presence of Link in the response.headers, which indicates pagination.\n",
    "# print(response.headers)\n",
    "\n",
    "data = response.json()\n",
    "\n",
    "# PostgreSQL connection parameters\n",
    "PG_PARAMS = {\n",
    "    \"dbname\": \"mydatabase\",\n",
    "    \"user\": \"myuser\",\n",
    "    \"password\": \"mypassword\",\n",
    "    \"host\": \"postgres\",\n",
    "    \"port\": \"5432\"\n",
    "}\n",
    "\n",
    "connection_string = f\"postgresql://{PG_PARAMS['user']}:{PG_PARAMS['password']}@{PG_PARAMS['host']}:{PG_PARAMS['port']}/{PG_PARAMS['dbname']}\"\n",
    "\n",
    "df = pd.DataFrame(data)\n",
    "\n",
    "df.to_csv(f'{file_name}.csv', index=False)\n",
    "df.to_sql(file_name + '_raw', connection_string, dtype={'lines': sqlalchemy.types.JSON}, if_exists='replace', index=False)"
   ]
  },
  {
   "cell_type": "code",
   "execution_count": null,
   "id": "cabbae51-8349-43ee-88fc-195058fcf11b",
   "metadata": {},
   "outputs": [],
   "source": []
  },
  {
   "cell_type": "code",
   "execution_count": 21,
   "id": "f1abcb0e-9d8c-484c-a492-0aa750ef71c2",
   "metadata": {},
   "outputs": [
    {
     "name": "stdout",
     "output_type": "stream",
     "text": [
      "{'access-control-allow-origin': '*', 'cache-control': 'max-age=0, private, must-revalidate', 'content-encoding': 'gzip', 'content-type': 'application/json; charset=utf-8', 'etag': 'W/\"97b81c46ef729b8d2de2647a1874fa31\"', 'last-modified': 'Sun, 12 Feb 2023 23:38:43 GMT', 'referrer-policy': 'strict-origin-when-cross-origin', 'set-cookie': 'application_theme=eyJfcmFpbHMiOnsibWVzc2FnZSI6IklteHBaMmgwSWc9PSIsImV4cCI6IjIwMjQtMTItMDZUMjE6NTk6MjAuNjI4WiIsInB1ciI6ImNvb2tpZS5hcHBsaWNhdGlvbl90aGVtZSJ9fQ%3D%3D--6ca14a17ffe08cc9f3326052902a357c362ccaef; path=/; expires=Fri, 06 Dec 2024 21:59:20 GMT; HttpOnly; SameSite=Lax; secure', 'strict-transport-security': 'max-age=63072000; includeSubDomains; preload', 'vary': 'Accept-Encoding', 'x-content-type-options': 'nosniff', 'x-download-options': 'noopen', 'x-frame-options': 'SAMEORIGIN', 'x-permitted-cross-domain-policies': 'none', 'x-request-id': 'e4e24db6-6ad8-4718-84b0-9417fded255b', 'x-runtime': '0.048830', 'x-xss-protection': '0', 'date': 'Wed, 06 Dec 2023 21:59:20 GMT', 'alt-svc': 'h3=\":443\"; ma=86400, h3-29=\":443\"; ma=86400', 'transfer-encoding': 'chunked'}\n"
     ]
    }
   ],
   "source": [
    "print(response.headers)"
   ]
  },
  {
   "cell_type": "code",
   "execution_count": 20,
   "id": "352533ca-ecc2-41ca-b589-6d85df458800",
   "metadata": {},
   "outputs": [
    {
     "name": "stdout",
     "output_type": "stream",
     "text": [
      "dict_keys(['id', 'custom_id', 'proforma', 'partial_proforma', 'number', 'number_format_id', 'variable_symbol', 'your_name', 'your_street', 'your_street2', 'your_city', 'your_zip', 'your_country', 'your_registration_no', 'your_vat_no', 'your_local_vat_no', 'client_name', 'client_street', 'client_street2', 'client_city', 'client_zip', 'client_country', 'client_registration_no', 'client_vat_no', 'client_local_vat_no', 'subject_id', 'subject_custom_id', 'generator_id', 'related_id', 'correction', 'correction_id', 'paypal', 'gopay', 'token', 'status', 'order_number', 'issued_on', 'taxable_fulfillment_due', 'due', 'due_on', 'sent_at', 'paid_at', 'reminder_sent_at', 'accepted_at', 'cancelled_at', 'webinvoice_seen_at', 'note', 'footer_note', 'private_note', 'tags', 'bank_account', 'iban', 'swift_bic', 'show_already_paid_note_in_pdf', 'payment_method', 'hide_bank_account', 'currency', 'exchange_rate', 'language', 'transferred_tax_liability', 'eu_electronic_service', 'oss', 'vat_price_mode', 'supply_code', 'subtotal', 'total', 'native_subtotal', 'native_total', 'remaining_amount', 'remaining_native_amount', 'paid_amount', 'eet', 'eet_cash_register', 'eet_store', 'eet_records', 'lines', 'attachment', 'html_url', 'public_html_url', 'url', 'pdf_url', 'subject_url', 'created_at', 'updated_at'])\n"
     ]
    }
   ],
   "source": [
    "print(invoices[0].keys())"
   ]
  },
  {
   "cell_type": "code",
   "execution_count": 27,
   "id": "27dbc75f-91ae-4278-803e-32fa47c21d64",
   "metadata": {},
   "outputs": [
    {
     "name": "stderr",
     "output_type": "stream",
     "text": [
      "/tmp/ipykernel_134/235214578.py:18: UserWarning: pandas only supports SQLAlchemy connectable (engine/connection) or database string URI or sqlite3 DBAPI2 connection. Other DBAPI2 objects are not tested. Please consider using SQLAlchemy.\n",
      "  df.to_sql('invoices', conn, if_exists='replace', index=False)\n"
     ]
    },
    {
     "ename": "DatabaseError",
     "evalue": "Execution failed on sql '\n        SELECT\n            name\n        FROM\n            sqlite_master\n        WHERE\n            type IN ('table', 'view')\n            AND name=?;\n        ': syntax error at or near \";\"\nLINE 8:             AND name=?;\n                              ^\n",
     "output_type": "error",
     "traceback": [
      "\u001b[0;31m---------------------------------------------------------------------------\u001b[0m",
      "\u001b[0;31mSyntaxError\u001b[0m                               Traceback (most recent call last)",
      "File \u001b[0;32m/opt/conda/lib/python3.11/site-packages/pandas/io/sql.py:2264\u001b[0m, in \u001b[0;36mSQLiteDatabase.execute\u001b[0;34m(self, sql, params)\u001b[0m\n\u001b[1;32m   2263\u001b[0m \u001b[38;5;28;01mtry\u001b[39;00m:\n\u001b[0;32m-> 2264\u001b[0m     \u001b[43mcur\u001b[49m\u001b[38;5;241;43m.\u001b[39;49m\u001b[43mexecute\u001b[49m\u001b[43m(\u001b[49m\u001b[43msql\u001b[49m\u001b[43m,\u001b[49m\u001b[43m \u001b[49m\u001b[38;5;241;43m*\u001b[39;49m\u001b[43margs\u001b[49m\u001b[43m)\u001b[49m\n\u001b[1;32m   2265\u001b[0m     \u001b[38;5;28;01mreturn\u001b[39;00m cur\n",
      "\u001b[0;31mSyntaxError\u001b[0m: syntax error at or near \";\"\nLINE 8:             AND name=?;\n                              ^\n",
      "\nThe above exception was the direct cause of the following exception:\n",
      "\u001b[0;31mDatabaseError\u001b[0m                             Traceback (most recent call last)",
      "Cell \u001b[0;32mIn[27], line 18\u001b[0m\n\u001b[1;32m     15\u001b[0m \u001b[38;5;66;03m# Connect to PostgreSQL\u001b[39;00m\n\u001b[1;32m     16\u001b[0m \u001b[38;5;28;01mwith\u001b[39;00m psycopg2\u001b[38;5;241m.\u001b[39mconnect(\u001b[38;5;241m*\u001b[39m\u001b[38;5;241m*\u001b[39mPG_PARAMS) \u001b[38;5;28;01mas\u001b[39;00m conn:\n\u001b[1;32m     17\u001b[0m     \u001b[38;5;66;03m# Write DataFrame to PostgreSQL\u001b[39;00m\n\u001b[0;32m---> 18\u001b[0m     \u001b[43mdf\u001b[49m\u001b[38;5;241;43m.\u001b[39;49m\u001b[43mto_sql\u001b[49m\u001b[43m(\u001b[49m\u001b[38;5;124;43m'\u001b[39;49m\u001b[38;5;124;43minvoices\u001b[39;49m\u001b[38;5;124;43m'\u001b[39;49m\u001b[43m,\u001b[49m\u001b[43m \u001b[49m\u001b[43mconn\u001b[49m\u001b[43m,\u001b[49m\u001b[43m \u001b[49m\u001b[43mif_exists\u001b[49m\u001b[38;5;241;43m=\u001b[39;49m\u001b[38;5;124;43m'\u001b[39;49m\u001b[38;5;124;43mreplace\u001b[39;49m\u001b[38;5;124;43m'\u001b[39;49m\u001b[43m,\u001b[49m\u001b[43m \u001b[49m\u001b[43mindex\u001b[49m\u001b[38;5;241;43m=\u001b[39;49m\u001b[38;5;28;43;01mFalse\u001b[39;49;00m\u001b[43m)\u001b[49m\n",
      "File \u001b[0;32m/opt/conda/lib/python3.11/site-packages/pandas/util/_decorators.py:333\u001b[0m, in \u001b[0;36mdeprecate_nonkeyword_arguments.<locals>.decorate.<locals>.wrapper\u001b[0;34m(*args, **kwargs)\u001b[0m\n\u001b[1;32m    327\u001b[0m \u001b[38;5;28;01mif\u001b[39;00m \u001b[38;5;28mlen\u001b[39m(args) \u001b[38;5;241m>\u001b[39m num_allow_args:\n\u001b[1;32m    328\u001b[0m     warnings\u001b[38;5;241m.\u001b[39mwarn(\n\u001b[1;32m    329\u001b[0m         msg\u001b[38;5;241m.\u001b[39mformat(arguments\u001b[38;5;241m=\u001b[39m_format_argument_list(allow_args)),\n\u001b[1;32m    330\u001b[0m         \u001b[38;5;167;01mFutureWarning\u001b[39;00m,\n\u001b[1;32m    331\u001b[0m         stacklevel\u001b[38;5;241m=\u001b[39mfind_stack_level(),\n\u001b[1;32m    332\u001b[0m     )\n\u001b[0;32m--> 333\u001b[0m \u001b[38;5;28;01mreturn\u001b[39;00m \u001b[43mfunc\u001b[49m\u001b[43m(\u001b[49m\u001b[38;5;241;43m*\u001b[39;49m\u001b[43margs\u001b[49m\u001b[43m,\u001b[49m\u001b[43m \u001b[49m\u001b[38;5;241;43m*\u001b[39;49m\u001b[38;5;241;43m*\u001b[39;49m\u001b[43mkwargs\u001b[49m\u001b[43m)\u001b[49m\n",
      "File \u001b[0;32m/opt/conda/lib/python3.11/site-packages/pandas/core/generic.py:3008\u001b[0m, in \u001b[0;36mNDFrame.to_sql\u001b[0;34m(self, name, con, schema, if_exists, index, index_label, chunksize, dtype, method)\u001b[0m\n\u001b[1;32m   2813\u001b[0m \u001b[38;5;250m\u001b[39m\u001b[38;5;124;03m\"\"\"\u001b[39;00m\n\u001b[1;32m   2814\u001b[0m \u001b[38;5;124;03mWrite records stored in a DataFrame to a SQL database.\u001b[39;00m\n\u001b[1;32m   2815\u001b[0m \n\u001b[0;32m   (...)\u001b[0m\n\u001b[1;32m   3004\u001b[0m \u001b[38;5;124;03m[(1,), (None,), (2,)]\u001b[39;00m\n\u001b[1;32m   3005\u001b[0m \u001b[38;5;124;03m\"\"\"\u001b[39;00m  \u001b[38;5;66;03m# noqa: E501\u001b[39;00m\n\u001b[1;32m   3006\u001b[0m \u001b[38;5;28;01mfrom\u001b[39;00m \u001b[38;5;21;01mpandas\u001b[39;00m\u001b[38;5;21;01m.\u001b[39;00m\u001b[38;5;21;01mio\u001b[39;00m \u001b[38;5;28;01mimport\u001b[39;00m sql\n\u001b[0;32m-> 3008\u001b[0m \u001b[38;5;28;01mreturn\u001b[39;00m \u001b[43msql\u001b[49m\u001b[38;5;241;43m.\u001b[39;49m\u001b[43mto_sql\u001b[49m\u001b[43m(\u001b[49m\n\u001b[1;32m   3009\u001b[0m \u001b[43m    \u001b[49m\u001b[38;5;28;43mself\u001b[39;49m\u001b[43m,\u001b[49m\n\u001b[1;32m   3010\u001b[0m \u001b[43m    \u001b[49m\u001b[43mname\u001b[49m\u001b[43m,\u001b[49m\n\u001b[1;32m   3011\u001b[0m \u001b[43m    \u001b[49m\u001b[43mcon\u001b[49m\u001b[43m,\u001b[49m\n\u001b[1;32m   3012\u001b[0m \u001b[43m    \u001b[49m\u001b[43mschema\u001b[49m\u001b[38;5;241;43m=\u001b[39;49m\u001b[43mschema\u001b[49m\u001b[43m,\u001b[49m\n\u001b[1;32m   3013\u001b[0m \u001b[43m    \u001b[49m\u001b[43mif_exists\u001b[49m\u001b[38;5;241;43m=\u001b[39;49m\u001b[43mif_exists\u001b[49m\u001b[43m,\u001b[49m\n\u001b[1;32m   3014\u001b[0m \u001b[43m    \u001b[49m\u001b[43mindex\u001b[49m\u001b[38;5;241;43m=\u001b[39;49m\u001b[43mindex\u001b[49m\u001b[43m,\u001b[49m\n\u001b[1;32m   3015\u001b[0m \u001b[43m    \u001b[49m\u001b[43mindex_label\u001b[49m\u001b[38;5;241;43m=\u001b[39;49m\u001b[43mindex_label\u001b[49m\u001b[43m,\u001b[49m\n\u001b[1;32m   3016\u001b[0m \u001b[43m    \u001b[49m\u001b[43mchunksize\u001b[49m\u001b[38;5;241;43m=\u001b[39;49m\u001b[43mchunksize\u001b[49m\u001b[43m,\u001b[49m\n\u001b[1;32m   3017\u001b[0m \u001b[43m    \u001b[49m\u001b[43mdtype\u001b[49m\u001b[38;5;241;43m=\u001b[39;49m\u001b[43mdtype\u001b[49m\u001b[43m,\u001b[49m\n\u001b[1;32m   3018\u001b[0m \u001b[43m    \u001b[49m\u001b[43mmethod\u001b[49m\u001b[38;5;241;43m=\u001b[39;49m\u001b[43mmethod\u001b[49m\u001b[43m,\u001b[49m\n\u001b[1;32m   3019\u001b[0m \u001b[43m\u001b[49m\u001b[43m)\u001b[49m\n",
      "File \u001b[0;32m/opt/conda/lib/python3.11/site-packages/pandas/io/sql.py:788\u001b[0m, in \u001b[0;36mto_sql\u001b[0;34m(frame, name, con, schema, if_exists, index, index_label, chunksize, dtype, method, engine, **engine_kwargs)\u001b[0m\n\u001b[1;32m    783\u001b[0m     \u001b[38;5;28;01mraise\u001b[39;00m \u001b[38;5;167;01mNotImplementedError\u001b[39;00m(\n\u001b[1;32m    784\u001b[0m         \u001b[38;5;124m\"\u001b[39m\u001b[38;5;124m'\u001b[39m\u001b[38;5;124mframe\u001b[39m\u001b[38;5;124m'\u001b[39m\u001b[38;5;124m argument should be either a Series or a DataFrame\u001b[39m\u001b[38;5;124m\"\u001b[39m\n\u001b[1;32m    785\u001b[0m     )\n\u001b[1;32m    787\u001b[0m \u001b[38;5;28;01mwith\u001b[39;00m pandasSQL_builder(con, schema\u001b[38;5;241m=\u001b[39mschema, need_transaction\u001b[38;5;241m=\u001b[39m\u001b[38;5;28;01mTrue\u001b[39;00m) \u001b[38;5;28;01mas\u001b[39;00m pandas_sql:\n\u001b[0;32m--> 788\u001b[0m     \u001b[38;5;28;01mreturn\u001b[39;00m \u001b[43mpandas_sql\u001b[49m\u001b[38;5;241;43m.\u001b[39;49m\u001b[43mto_sql\u001b[49m\u001b[43m(\u001b[49m\n\u001b[1;32m    789\u001b[0m \u001b[43m        \u001b[49m\u001b[43mframe\u001b[49m\u001b[43m,\u001b[49m\n\u001b[1;32m    790\u001b[0m \u001b[43m        \u001b[49m\u001b[43mname\u001b[49m\u001b[43m,\u001b[49m\n\u001b[1;32m    791\u001b[0m \u001b[43m        \u001b[49m\u001b[43mif_exists\u001b[49m\u001b[38;5;241;43m=\u001b[39;49m\u001b[43mif_exists\u001b[49m\u001b[43m,\u001b[49m\n\u001b[1;32m    792\u001b[0m \u001b[43m        \u001b[49m\u001b[43mindex\u001b[49m\u001b[38;5;241;43m=\u001b[39;49m\u001b[43mindex\u001b[49m\u001b[43m,\u001b[49m\n\u001b[1;32m    793\u001b[0m \u001b[43m        \u001b[49m\u001b[43mindex_label\u001b[49m\u001b[38;5;241;43m=\u001b[39;49m\u001b[43mindex_label\u001b[49m\u001b[43m,\u001b[49m\n\u001b[1;32m    794\u001b[0m \u001b[43m        \u001b[49m\u001b[43mschema\u001b[49m\u001b[38;5;241;43m=\u001b[39;49m\u001b[43mschema\u001b[49m\u001b[43m,\u001b[49m\n\u001b[1;32m    795\u001b[0m \u001b[43m        \u001b[49m\u001b[43mchunksize\u001b[49m\u001b[38;5;241;43m=\u001b[39;49m\u001b[43mchunksize\u001b[49m\u001b[43m,\u001b[49m\n\u001b[1;32m    796\u001b[0m \u001b[43m        \u001b[49m\u001b[43mdtype\u001b[49m\u001b[38;5;241;43m=\u001b[39;49m\u001b[43mdtype\u001b[49m\u001b[43m,\u001b[49m\n\u001b[1;32m    797\u001b[0m \u001b[43m        \u001b[49m\u001b[43mmethod\u001b[49m\u001b[38;5;241;43m=\u001b[39;49m\u001b[43mmethod\u001b[49m\u001b[43m,\u001b[49m\n\u001b[1;32m    798\u001b[0m \u001b[43m        \u001b[49m\u001b[43mengine\u001b[49m\u001b[38;5;241;43m=\u001b[39;49m\u001b[43mengine\u001b[49m\u001b[43m,\u001b[49m\n\u001b[1;32m    799\u001b[0m \u001b[43m        \u001b[49m\u001b[38;5;241;43m*\u001b[39;49m\u001b[38;5;241;43m*\u001b[39;49m\u001b[43mengine_kwargs\u001b[49m\u001b[43m,\u001b[49m\n\u001b[1;32m    800\u001b[0m \u001b[43m    \u001b[49m\u001b[43m)\u001b[49m\n",
      "File \u001b[0;32m/opt/conda/lib/python3.11/site-packages/pandas/io/sql.py:2440\u001b[0m, in \u001b[0;36mSQLiteDatabase.to_sql\u001b[0;34m(self, frame, name, if_exists, index, index_label, schema, chunksize, dtype, method, engine, **engine_kwargs)\u001b[0m\n\u001b[1;32m   2429\u001b[0m             \u001b[38;5;28;01mraise\u001b[39;00m \u001b[38;5;167;01mValueError\u001b[39;00m(\u001b[38;5;124mf\u001b[39m\u001b[38;5;124m\"\u001b[39m\u001b[38;5;132;01m{\u001b[39;00mcol\u001b[38;5;132;01m}\u001b[39;00m\u001b[38;5;124m (\u001b[39m\u001b[38;5;132;01m{\u001b[39;00mmy_type\u001b[38;5;132;01m}\u001b[39;00m\u001b[38;5;124m) not a string\u001b[39m\u001b[38;5;124m\"\u001b[39m)\n\u001b[1;32m   2431\u001b[0m table \u001b[38;5;241m=\u001b[39m SQLiteTable(\n\u001b[1;32m   2432\u001b[0m     name,\n\u001b[1;32m   2433\u001b[0m     \u001b[38;5;28mself\u001b[39m,\n\u001b[0;32m   (...)\u001b[0m\n\u001b[1;32m   2438\u001b[0m     dtype\u001b[38;5;241m=\u001b[39mdtype,\n\u001b[1;32m   2439\u001b[0m )\n\u001b[0;32m-> 2440\u001b[0m \u001b[43mtable\u001b[49m\u001b[38;5;241;43m.\u001b[39;49m\u001b[43mcreate\u001b[49m\u001b[43m(\u001b[49m\u001b[43m)\u001b[49m\n\u001b[1;32m   2441\u001b[0m \u001b[38;5;28;01mreturn\u001b[39;00m table\u001b[38;5;241m.\u001b[39minsert(chunksize, method)\n",
      "File \u001b[0;32m/opt/conda/lib/python3.11/site-packages/pandas/io/sql.py:925\u001b[0m, in \u001b[0;36mSQLTable.create\u001b[0;34m(self)\u001b[0m\n\u001b[1;32m    924\u001b[0m \u001b[38;5;28;01mdef\u001b[39;00m \u001b[38;5;21mcreate\u001b[39m(\u001b[38;5;28mself\u001b[39m) \u001b[38;5;241m-\u001b[39m\u001b[38;5;241m>\u001b[39m \u001b[38;5;28;01mNone\u001b[39;00m:\n\u001b[0;32m--> 925\u001b[0m     \u001b[38;5;28;01mif\u001b[39;00m \u001b[38;5;28;43mself\u001b[39;49m\u001b[38;5;241;43m.\u001b[39;49m\u001b[43mexists\u001b[49m\u001b[43m(\u001b[49m\u001b[43m)\u001b[49m:\n\u001b[1;32m    926\u001b[0m         \u001b[38;5;28;01mif\u001b[39;00m \u001b[38;5;28mself\u001b[39m\u001b[38;5;241m.\u001b[39mif_exists \u001b[38;5;241m==\u001b[39m \u001b[38;5;124m\"\u001b[39m\u001b[38;5;124mfail\u001b[39m\u001b[38;5;124m\"\u001b[39m:\n\u001b[1;32m    927\u001b[0m             \u001b[38;5;28;01mraise\u001b[39;00m \u001b[38;5;167;01mValueError\u001b[39;00m(\u001b[38;5;124mf\u001b[39m\u001b[38;5;124m\"\u001b[39m\u001b[38;5;124mTable \u001b[39m\u001b[38;5;124m'\u001b[39m\u001b[38;5;132;01m{\u001b[39;00m\u001b[38;5;28mself\u001b[39m\u001b[38;5;241m.\u001b[39mname\u001b[38;5;132;01m}\u001b[39;00m\u001b[38;5;124m'\u001b[39m\u001b[38;5;124m already exists.\u001b[39m\u001b[38;5;124m\"\u001b[39m)\n",
      "File \u001b[0;32m/opt/conda/lib/python3.11/site-packages/pandas/io/sql.py:911\u001b[0m, in \u001b[0;36mSQLTable.exists\u001b[0;34m(self)\u001b[0m\n\u001b[1;32m    910\u001b[0m \u001b[38;5;28;01mdef\u001b[39;00m \u001b[38;5;21mexists\u001b[39m(\u001b[38;5;28mself\u001b[39m):\n\u001b[0;32m--> 911\u001b[0m     \u001b[38;5;28;01mreturn\u001b[39;00m \u001b[38;5;28;43mself\u001b[39;49m\u001b[38;5;241;43m.\u001b[39;49m\u001b[43mpd_sql\u001b[49m\u001b[38;5;241;43m.\u001b[39;49m\u001b[43mhas_table\u001b[49m\u001b[43m(\u001b[49m\u001b[38;5;28;43mself\u001b[39;49m\u001b[38;5;241;43m.\u001b[39;49m\u001b[43mname\u001b[49m\u001b[43m,\u001b[49m\u001b[43m \u001b[49m\u001b[38;5;28;43mself\u001b[39;49m\u001b[38;5;241;43m.\u001b[39;49m\u001b[43mschema\u001b[49m\u001b[43m)\u001b[49m\n",
      "File \u001b[0;32m/opt/conda/lib/python3.11/site-packages/pandas/io/sql.py:2455\u001b[0m, in \u001b[0;36mSQLiteDatabase.has_table\u001b[0;34m(self, name, schema)\u001b[0m\n\u001b[1;32m   2444\u001b[0m wld \u001b[38;5;241m=\u001b[39m \u001b[38;5;124m\"\u001b[39m\u001b[38;5;124m?\u001b[39m\u001b[38;5;124m\"\u001b[39m\n\u001b[1;32m   2445\u001b[0m query \u001b[38;5;241m=\u001b[39m \u001b[38;5;124mf\u001b[39m\u001b[38;5;124m\"\"\"\u001b[39m\n\u001b[1;32m   2446\u001b[0m \u001b[38;5;124mSELECT\u001b[39m\n\u001b[1;32m   2447\u001b[0m \u001b[38;5;124m    name\u001b[39m\n\u001b[0;32m   (...)\u001b[0m\n\u001b[1;32m   2452\u001b[0m \u001b[38;5;124m    AND name=\u001b[39m\u001b[38;5;132;01m{\u001b[39;00mwld\u001b[38;5;132;01m}\u001b[39;00m\u001b[38;5;124m;\u001b[39m\n\u001b[1;32m   2453\u001b[0m \u001b[38;5;124m\u001b[39m\u001b[38;5;124m\"\"\"\u001b[39m\n\u001b[0;32m-> 2455\u001b[0m \u001b[38;5;28;01mreturn\u001b[39;00m \u001b[38;5;28mlen\u001b[39m(\u001b[38;5;28;43mself\u001b[39;49m\u001b[38;5;241;43m.\u001b[39;49m\u001b[43mexecute\u001b[49m\u001b[43m(\u001b[49m\u001b[43mquery\u001b[49m\u001b[43m,\u001b[49m\u001b[43m \u001b[49m\u001b[43m[\u001b[49m\u001b[43mname\u001b[49m\u001b[43m]\u001b[49m\u001b[43m)\u001b[49m\u001b[38;5;241m.\u001b[39mfetchall()) \u001b[38;5;241m>\u001b[39m \u001b[38;5;241m0\u001b[39m\n",
      "File \u001b[0;32m/opt/conda/lib/python3.11/site-packages/pandas/io/sql.py:2276\u001b[0m, in \u001b[0;36mSQLiteDatabase.execute\u001b[0;34m(self, sql, params)\u001b[0m\n\u001b[1;32m   2273\u001b[0m     \u001b[38;5;28;01mraise\u001b[39;00m ex \u001b[38;5;28;01mfrom\u001b[39;00m \u001b[38;5;21;01minner_exc\u001b[39;00m\n\u001b[1;32m   2275\u001b[0m ex \u001b[38;5;241m=\u001b[39m DatabaseError(\u001b[38;5;124mf\u001b[39m\u001b[38;5;124m\"\u001b[39m\u001b[38;5;124mExecution failed on sql \u001b[39m\u001b[38;5;124m'\u001b[39m\u001b[38;5;132;01m{\u001b[39;00msql\u001b[38;5;132;01m}\u001b[39;00m\u001b[38;5;124m'\u001b[39m\u001b[38;5;124m: \u001b[39m\u001b[38;5;132;01m{\u001b[39;00mexc\u001b[38;5;132;01m}\u001b[39;00m\u001b[38;5;124m\"\u001b[39m)\n\u001b[0;32m-> 2276\u001b[0m \u001b[38;5;28;01mraise\u001b[39;00m ex \u001b[38;5;28;01mfrom\u001b[39;00m \u001b[38;5;21;01mexc\u001b[39;00m\n",
      "\u001b[0;31mDatabaseError\u001b[0m: Execution failed on sql '\n        SELECT\n            name\n        FROM\n            sqlite_master\n        WHERE\n            type IN ('table', 'view')\n            AND name=?;\n        ': syntax error at or near \";\"\nLINE 8:             AND name=?;\n                              ^\n"
     ]
    }
   ],
   "source": [
    "#csv_file = 'invoices.csv'\n",
    "\n",
    "# Write data to CSV file with quoting and escape character\n",
    "\"\"\"with open(csv_file, mode='w', newline='', encoding='utf-8') as file:\n",
    "    csv_writer = csv.writer(file, quoting=csv.QUOTE_ALL, escapechar='\\\\')\n",
    "    headers = list(invoices[0].keys())  # Update headers\n",
    "    csv_writer.writerow(headers)  # Write headers to the CSV file\n",
    "    for invoice in invoices:\n",
    "        # Extract values from the invoice dictionary based on the headers order\n",
    "        data_row = [invoice[header] for header in headers]\n",
    "        csv_writer.writerow(data_row)  # Write values to the CSV file\"\"\"\n",
    "\n",
    "df = pd.read_csv(csv_file)\n",
    "\n",
    "# Connect to PostgreSQL\n",
    "with psycopg2.connect(**PG_PARAMS) as conn:\n",
    "    # Write DataFrame to PostgreSQL\n",
    "    df.to_sql('invoices', conn, if_exists='replace', index=False)"
   ]
  },
  {
   "cell_type": "code",
   "execution_count": 23,
   "id": "0d1a50ca-39eb-4bda-aed6-26c3d8280f9d",
   "metadata": {},
   "outputs": [
    {
     "data": {
      "text/plain": [
       "'id'"
      ]
     },
     "execution_count": 23,
     "metadata": {},
     "output_type": "execute_result"
    }
   ],
   "source": [
    "headers[0]"
   ]
  },
  {
   "cell_type": "code",
   "execution_count": 24,
   "id": "905cb9b3-3ff3-408e-8465-86eb0a6d5a4f",
   "metadata": {},
   "outputs": [
    {
     "name": "stdout",
     "output_type": "stream",
     "text": [
      "Table Structure:\n",
      "('lines', 'jsonb')\n",
      "('tags', 'jsonb')\n",
      "('eet_records', 'jsonb')\n",
      "('partial_proforma', 'character varying')\n",
      "('number', 'character varying')\n",
      "('number_format_id', 'character varying')\n",
      "('variable_symbol', 'character varying')\n",
      "('your_name', 'character varying')\n",
      "('your_street', 'character varying')\n",
      "('your_street2', 'character varying')\n",
      "('your_city', 'character varying')\n",
      "('your_zip', 'character varying')\n",
      "('your_country', 'character varying')\n",
      "('your_registration_no', 'character varying')\n",
      "('your_vat_no', 'character varying')\n",
      "('your_local_vat_no', 'character varying')\n",
      "('client_name', 'character varying')\n",
      "('client_street', 'character varying')\n",
      "('client_street2', 'character varying')\n",
      "('client_city', 'character varying')\n",
      "('client_zip', 'character varying')\n",
      "('client_country', 'character varying')\n",
      "('client_registration_no', 'character varying')\n",
      "('client_vat_no', 'character varying')\n",
      "('client_local_vat_no', 'character varying')\n",
      "('subject_id', 'character varying')\n",
      "('subject_custom_id', 'character varying')\n",
      "('generator_id', 'character varying')\n",
      "('related_id', 'character varying')\n",
      "('correction', 'character varying')\n",
      "('correction_id', 'character varying')\n",
      "('paypal', 'character varying')\n",
      "('gopay', 'character varying')\n",
      "('token', 'character varying')\n",
      "('status', 'character varying')\n",
      "('order_number', 'character varying')\n",
      "('issued_on', 'character varying')\n",
      "('taxable_fulfillment_due', 'character varying')\n",
      "('due', 'character varying')\n",
      "('due_on', 'character varying')\n",
      "('sent_at', 'character varying')\n",
      "('paid_at', 'character varying')\n",
      "('reminder_sent_at', 'character varying')\n",
      "('accepted_at', 'character varying')\n",
      "('cancelled_at', 'character varying')\n",
      "('webinvoice_seen_at', 'character varying')\n",
      "('note', 'character varying')\n",
      "('footer_note', 'character varying')\n",
      "('private_note', 'character varying')\n",
      "('bank_account', 'character varying')\n",
      "('iban', 'character varying')\n",
      "('swift_bic', 'character varying')\n",
      "('show_already_paid_note_in_pdf', 'character varying')\n",
      "('payment_method', 'character varying')\n",
      "('hide_bank_account', 'character varying')\n",
      "('currency', 'character varying')\n",
      "('exchange_rate', 'character varying')\n",
      "('language', 'character varying')\n",
      "('transferred_tax_liability', 'character varying')\n",
      "('eu_electronic_service', 'character varying')\n",
      "('oss', 'character varying')\n",
      "('vat_price_mode', 'character varying')\n",
      "('supply_code', 'character varying')\n",
      "('subtotal', 'character varying')\n",
      "('total', 'character varying')\n",
      "('native_subtotal', 'character varying')\n",
      "('native_total', 'character varying')\n",
      "('remaining_amount', 'character varying')\n",
      "('remaining_native_amount', 'character varying')\n",
      "('paid_amount', 'character varying')\n",
      "('eet', 'character varying')\n",
      "('eet_cash_register', 'character varying')\n",
      "('eet_store', 'character varying')\n",
      "('attachment', 'character varying')\n",
      "('html_url', 'character varying')\n",
      "('public_html_url', 'character varying')\n",
      "('url', 'character varying')\n",
      "('pdf_url', 'character varying')\n",
      "('subject_url', 'character varying')\n",
      "('created_at', 'character varying')\n",
      "('id', 'character varying')\n",
      "('updated_at', 'character varying')\n",
      "('custom_id', 'character varying')\n",
      "('proforma', 'character varying')\n"
     ]
    }
   ],
   "source": [
    "query = \"\"\"\n",
    "    SELECT column_name, data_type\n",
    "    FROM information_schema.columns\n",
    "    WHERE table_name = 'invoices';\"\"\"\n",
    "\n",
    "# Connect to PostgreSQL\n",
    "with psycopg2.connect(**PG_PARAMS) as conn:\n",
    "    with conn.cursor() as cur:\n",
    "        # Create table dynamically based on JSON keys\n",
    "        table_creation_query = f\"CREATE TABLE IF NOT EXISTS invoices (\"\n",
    "        for idx, header in enumerate(headers):\n",
    "            # Define column names and types based on JSON keys\n",
    "            value = invoices[0][header]\n",
    "            if isinstance(value, (dict, list)): #TO DO: \n",
    "                column_type = \"JSONB\"  # Using JSONB for JSON-like structures\n",
    "            #elif \"id\" in header and isinstance(value, int):\n",
    "            #    column_type = \"INTEGER\"\n",
    "            #elif isinstance(value, int) or str(value).isdigit():\n",
    "            #    column_type = \"REAL\"  # Assuming other columns as VARCHAR for simplicity\n",
    "            else:\n",
    "                column_type = \"VARCHAR(255)\"  # Assuming other columns as VARCHAR for simplicity\n",
    "            if idx != 0:\n",
    "                table_creation_query += \", \"\n",
    "            table_creation_query += f\"{header} {column_type}\"\n",
    "        table_creation_query += \");\"\n",
    "\n",
    "        cur.execute(table_creation_query)\n",
    "        cur.execute(query)\n",
    "        table_structure = cur.fetchall()\n",
    "\n",
    "        print(\"Table Structure:\")\n",
    "        for column in table_structure:\n",
    "            print(column)"
   ]
  },
  {
   "cell_type": "code",
   "execution_count": 30,
   "id": "0748afe0-93d3-48bb-8ec7-c06852a74541",
   "metadata": {},
   "outputs": [
    {
     "ename": "UndefinedColumn",
     "evalue": "column \"Content-Type\" of relation \"invoices\" does not exist\n",
     "output_type": "error",
     "traceback": [
      "\u001b[0;31m---------------------------------------------------------------------------\u001b[0m",
      "\u001b[0;31mUndefinedColumn\u001b[0m                           Traceback (most recent call last)",
      "Cell \u001b[0;32mIn[30], line 10\u001b[0m\n\u001b[1;32m      7\u001b[0m \u001b[38;5;28;01mwith\u001b[39;00m \u001b[38;5;28mopen\u001b[39m(csv_file, \u001b[38;5;124m'\u001b[39m\u001b[38;5;124mr\u001b[39m\u001b[38;5;124m'\u001b[39m, encoding\u001b[38;5;241m=\u001b[39m\u001b[38;5;124m'\u001b[39m\u001b[38;5;124mutf-8\u001b[39m\u001b[38;5;124m'\u001b[39m) \u001b[38;5;28;01mas\u001b[39;00m f:\n\u001b[1;32m      8\u001b[0m     \u001b[38;5;66;03m# Skip the header row in the CSV file\u001b[39;00m\n\u001b[1;32m      9\u001b[0m     \u001b[38;5;28mnext\u001b[39m(f)\n\u001b[0;32m---> 10\u001b[0m     \u001b[43mcur\u001b[49m\u001b[38;5;241;43m.\u001b[39;49m\u001b[43mcopy_from\u001b[49m\u001b[43m(\u001b[49m\u001b[43mf\u001b[49m\u001b[43m,\u001b[49m\u001b[43m \u001b[49m\u001b[38;5;124;43m'\u001b[39;49m\u001b[38;5;124;43minvoices\u001b[39;49m\u001b[38;5;124;43m'\u001b[39;49m\u001b[43m,\u001b[49m\u001b[43m \u001b[49m\u001b[43msep\u001b[49m\u001b[38;5;241;43m=\u001b[39;49m\u001b[38;5;124;43m'\u001b[39;49m\u001b[38;5;124;43m,\u001b[39;49m\u001b[38;5;124;43m'\u001b[39;49m\u001b[43m,\u001b[49m\u001b[43m \u001b[49m\u001b[43mcolumns\u001b[49m\u001b[38;5;241;43m=\u001b[39;49m\u001b[43mheaders\u001b[49m\u001b[43m,\u001b[49m\u001b[43m \u001b[49m\u001b[43mnull\u001b[49m\u001b[38;5;241;43m=\u001b[39;49m\u001b[38;5;124;43m'\u001b[39;49m\u001b[38;5;124;43mNone\u001b[39;49m\u001b[38;5;124;43m'\u001b[39;49m\u001b[43m)\u001b[49m\n\u001b[1;32m     11\u001b[0m     conn\u001b[38;5;241m.\u001b[39mcommit()\n",
      "\u001b[0;31mUndefinedColumn\u001b[0m: column \"Content-Type\" of relation \"invoices\" does not exist\n"
     ]
    }
   ],
   "source": [
    "csv_file = 'output.csv'\n",
    "\n",
    "# Connect to PostgreSQL\n",
    "with psycopg2.connect(**PG_PARAMS) as conn:\n",
    "    with conn.cursor() as cur:\n",
    "        # Load data into PostgreSQL from CSV\n",
    "        with open(csv_file, 'r', encoding='utf-8') as f:\n",
    "            # Skip the header row in the CSV file\n",
    "            next(f)\n",
    "            cur.copy_from(f, 'invoices', sep=',', columns=headers, null='None')\n",
    "            conn.commit()"
   ]
  }
 ],
 "metadata": {
  "kernelspec": {
   "display_name": "Python 3 (ipykernel)",
   "language": "python",
   "name": "python3"
  },
  "language_info": {
   "codemirror_mode": {
    "name": "ipython",
    "version": 3
   },
   "file_extension": ".py",
   "mimetype": "text/x-python",
   "name": "python",
   "nbconvert_exporter": "python",
   "pygments_lexer": "ipython3",
   "version": "3.11.6"
  }
 },
 "nbformat": 4,
 "nbformat_minor": 5
}
